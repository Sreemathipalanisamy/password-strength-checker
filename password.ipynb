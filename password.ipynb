{
  "nbformat": 4,
  "nbformat_minor": 0,
  "metadata": {
    "colab": {
      "provenance": []
    },
    "kernelspec": {
      "name": "python3",
      "display_name": "Python 3"
    },
    "language_info": {
      "name": "python"
    }
  },
  "cells": [
    {
      "cell_type": "code",
      "execution_count": 21,
      "metadata": {
        "colab": {
          "base_uri": "https://localhost:8080/"
        },
        "id": "l28ikZhJpQGv",
        "outputId": "1f0bfcdb-ad7d-4865-a743-d2804df39ad6"
      },
      "outputs": [
        {
          "output_type": "stream",
          "name": "stdout",
          "text": [
            "Accuracy: 100.00%\n",
            "Enter a password to check its strength: SREEmaTHI@88848\n",
            "The strength of the password \"SREEmaTHI@88848\" is: Strong\n"
          ]
        }
      ],
      "source": [
        "import pandas as pd\n",
        "from sklearn.model_selection import train_test_split\n",
        "from sklearn.ensemble import RandomForestClassifier\n",
        "from sklearn.metrics import accuracy_score\n",
        "import string\n",
        "\n",
        "data = pd.read_csv('data.csv', on_bad_lines='skip')\n",
        "\n",
        "data = data.dropna(subset=['password'])\n",
        "data = data[data['password'].apply(lambda x: isinstance(x, str))]\n",
        "\n",
        "def extract_features(password):\n",
        "    features = {}\n",
        "    features['length'] = len(password)\n",
        "    features['digits'] = sum(c.isdigit() for c in password)\n",
        "    features['upper_case'] = sum(c.isupper() for c in password)\n",
        "    features['lower_case'] = sum(c.islower() for c in password)\n",
        "    features['special_char'] = sum(c in string.punctuation for c in password)\n",
        "    return features\n",
        "\n",
        "features = data['password'].apply(extract_features)\n",
        "features_df = pd.DataFrame(features.tolist())\n",
        "\n",
        "X = features_df\n",
        "y = data['strength']\n",
        "\n",
        "X_train, X_test, y_train, y_test = train_test_split(X, y, test_size=0.2, random_state=42)\n",
        "\n",
        "clf = RandomForestClassifier(n_estimators=100, random_state=42)\n",
        "clf.fit(X_train, y_train)\n",
        "\n",
        "y_pred = clf.predict(X_test)\n",
        "\n",
        "accuracy = accuracy_score(y_test, y_pred)\n",
        "print(f'Accuracy: {accuracy * 100:.2f}%')\n",
        "\n",
        "def check_password_strength(password):\n",
        "    features = pd.DataFrame([extract_features(password)])\n",
        "    strength = clf.predict(features)[0]\n",
        "    return strength\n",
        "\n",
        "password = input(\"Enter a password to check its strength: \")\n",
        "strength = check_password_strength(password)\n",
        "\n",
        "strength_label = {0: 'Weak', 1: 'Medium', 2: 'Strong'}\n",
        "print(f'The strength of the password \"{password}\" is: {strength_label.get(strength, \"Unknown\")}')"
      ]
    },
    {
      "cell_type": "code",
      "source": [],
      "metadata": {
        "id": "eNDIznfepUXo"
      },
      "execution_count": null,
      "outputs": []
    }
  ]
}